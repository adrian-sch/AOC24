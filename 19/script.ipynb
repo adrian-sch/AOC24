{
 "cells": [
  {
   "cell_type": "code",
   "execution_count": null,
   "metadata": {},
   "outputs": [],
   "source": [
    "file = open('input.txt').read()\n",
    "\n",
    "towels = tuple(file.split('\\n\\n')[0].split(', '))\n",
    "designs = tuple(file.split('\\n\\n')[1].split('\\n'))\n",
    "\n",
    "towels, designs"
   ]
  },
  {
   "cell_type": "code",
   "execution_count": null,
   "metadata": {},
   "outputs": [],
   "source": [
    "import functools\n",
    "\n",
    "@functools.lru_cache(maxsize=None)\n",
    "def check_design(design, towels):    \n",
    "    if design == '':\n",
    "        return True\n",
    "    \n",
    "    for towel in towels:\n",
    "        if design.startswith(towel):\n",
    "            if check_design(design[len(towel):], towels):\n",
    "                return True\n",
    "    \n",
    "    return False\n",
    "\n",
    "\n",
    "clean_towels = ()\n",
    "for towel in towels:\n",
    "    tmp = tuple(t for t in towels if t != towel)\n",
    "    if not check_design(towel, tmp):\n",
    "        clean_towels += (towel,)\n",
    "\n",
    "print(f\"{len(towels)} towels\")\n",
    "print(f\"{len(clean_towels)} cleaned towels\")\n",
    "print(f\"{clean_towels}\")\n",
    "\n",
    "ans = 0\n",
    "for design in designs:\n",
    "    if check_design(design, clean_towels):\n",
    "        ans += 1\n",
    "    \n",
    "print(ans)"
   ]
  },
  {
   "cell_type": "code",
   "execution_count": null,
   "metadata": {},
   "outputs": [],
   "source": [
    "import functools\n",
    "\n",
    "@functools.lru_cache(maxsize=None)\n",
    "def check_design(design):\n",
    "    global towels\n",
    "    \n",
    "    if design == '':\n",
    "        return 1\n",
    "    \n",
    "    ans = 0\n",
    "    for towel in towels:\n",
    "        if design.startswith(towel):\n",
    "            ans += check_design(design[len(towel):])\n",
    "    \n",
    "    print(f\"{design} -> {ans}\")\n",
    "    return ans\n",
    "\n",
    "ans = 0\n",
    "for design in designs:\n",
    "    ans += check_design(design)\n",
    "    \n",
    "print(check_design.cache_info())\n",
    "print(ans)\n"
   ]
  }
 ],
 "metadata": {
  "kernelspec": {
   "display_name": "Python 3",
   "language": "python",
   "name": "python3"
  },
  "language_info": {
   "codemirror_mode": {
    "name": "ipython",
    "version": 3
   },
   "file_extension": ".py",
   "mimetype": "text/x-python",
   "name": "python",
   "nbconvert_exporter": "python",
   "pygments_lexer": "ipython3",
   "version": "3.8.10"
  }
 },
 "nbformat": 4,
 "nbformat_minor": 2
}
