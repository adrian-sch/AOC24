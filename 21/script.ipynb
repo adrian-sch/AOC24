{
 "cells": [
  {
   "cell_type": "code",
   "execution_count": 2,
   "metadata": {},
   "outputs": [
    {
     "data": {
      "text/plain": [
       "['540A', '582A', '169A', '593A', '579A']"
      ]
     },
     "execution_count": 2,
     "metadata": {},
     "output_type": "execute_result"
    }
   ],
   "source": [
    "codes = open('input.txt').read().splitlines()\n",
    "\n",
    "codes"
   ]
  },
  {
   "cell_type": "code",
   "execution_count": 4,
   "metadata": {},
   "outputs": [
    {
     "name": "stdout",
     "output_type": "stream",
     "text": [
      "540A\n",
      "582A\n",
      "169A\n",
      "593A\n",
      "579A\n"
     ]
    },
    {
     "data": {
      "text/plain": [
       "{(10, 5): [{(1, 1, 2, 5), (1, 2, 1, 5), (2, 1, 1, 5)}],\n",
       " (5, 4): [{(2, 5)}],\n",
       " (4, 0): [{(3, 3, 4, 5), (3, 4, 3, 5), (4, 3, 3, 5)}],\n",
       " (0, 10): [{(4, 5)}],\n",
       " (5, 8): [{(1, 5)}],\n",
       " (8, 2): [{(3, 3, 5)}],\n",
       " (2, 10): [{(3, 4, 5), (4, 3, 5)}],\n",
       " (10, 1): [{(1, 2, 2, 5), (2, 1, 2, 5), (2, 2, 1, 5)}],\n",
       " (1, 6): [{(1, 4, 4, 5), (4, 1, 4, 5), (4, 4, 1, 5)}],\n",
       " (6, 9): [{(1, 5)}],\n",
       " (9, 10): [{(3, 3, 3, 5)}],\n",
       " (5, 9): [{(1, 4, 5), (4, 1, 5)}],\n",
       " (9, 3): [{(3, 3, 5)}],\n",
       " (3, 10): [{(3, 5)}],\n",
       " (5, 7): [{(1, 2, 5), (2, 1, 5)}],\n",
       " (7, 9): [{(4, 4, 5)}]}"
      ]
     },
     "execution_count": 4,
     "metadata": {},
     "output_type": "execute_result"
    }
   ],
   "source": [
    "import functools\n",
    "import itertools\n",
    "\n",
    "NUMPAD = [[7,8,9],[4,5,6],[1,2,3],[-1,0,10]]\n",
    "KEYPAD = [[-1,1,5], [2,3,4]]\n",
    "\n",
    "\n",
    "def get_coordinate(pad, num):\n",
    "    for i in range(len(pad)):\n",
    "        for j in range(len(pad[i])):\n",
    "            if pad[i][j] == num:\n",
    "                return i, j\n",
    "    return -1, -1\n",
    "\n",
    "@functools.lru_cache(maxsize=None)\n",
    "def get_num_coordinate(num):\n",
    "    return get_coordinate(NUMPAD, num)\n",
    "\n",
    "@functools.lru_cache(maxsize=None)\n",
    "def get_key_coordinate(key):\n",
    "    return get_coordinate(KEYPAD, key)\n",
    "\n",
    "def dirs_to_str(dirs):\n",
    "    return ''.join(map(lambda x: 'ULDRA'[x-1], dirs))\n",
    "\n",
    "def char_to_num(char):\n",
    "    if char == 'A':\n",
    "        return 10\n",
    "    return int(char)\n",
    "\n",
    "def dir_to_num(dir):\n",
    "    dir_map = {\n",
    "        'U': (1),\n",
    "        'D': (3),\n",
    "        'L': (2),\n",
    "        'R': (4),\n",
    "        'A': (5)\n",
    "    }\n",
    "    return dir_map[dir]\n",
    "\n",
    "\n",
    "def get_dirs(si, sj, ei, ej):\n",
    "    up = si - ei\n",
    "    right = ej - sj\n",
    "    \n",
    "    dirs = []\n",
    "    if up > 0:\n",
    "        dirs += [1] * up\n",
    "    if right > 0:\n",
    "        dirs += [4] * right\n",
    "    if up < 0:\n",
    "        dirs += [3] * abs(up)\n",
    "    if right < 0:\n",
    "        dirs += [2] * abs(right)\n",
    "\n",
    "    permutations = list(itertools.permutations(dirs))\n",
    "\n",
    "    ret = set()\n",
    "    for perm in permutations:\n",
    "        perm += (5,)\n",
    "        ret.add(perm)\n",
    "\n",
    "    return ret\n",
    "\n",
    "def get_num_keys(start, end):\n",
    "    si,sj = get_num_coordinate(start)\n",
    "    ei,ej = get_num_coordinate(end)\n",
    "    return get_dirs(si, sj, ei, ej)\n",
    "\n",
    "def get_dir_keys(start, end):\n",
    "    si,sj = get_key_coordinate(start)\n",
    "    ei,ej = get_key_coordinate(end)\n",
    "    return get_dirs(si, sj, ei, ej)\n",
    "\n",
    "\n",
    "ans = 0\n",
    "dist = {}\n",
    "for code in codes:\n",
    "    start = 10\n",
    "    print(code)\n",
    "    for char in code:\n",
    "        to = char_to_num(char)\n",
    "        if (start, to) not in dist:\n",
    "            dirs = get_num_keys(start, to)\n",
    "            dist[(start, to)] = [dirs]\n",
    "        start = to\n",
    "\n",
    "dist"
   ]
  }
 ],
 "metadata": {
  "kernelspec": {
   "display_name": "Python 3",
   "language": "python",
   "name": "python3"
  },
  "language_info": {
   "codemirror_mode": {
    "name": "ipython",
    "version": 3
   },
   "file_extension": ".py",
   "mimetype": "text/x-python",
   "name": "python",
   "nbconvert_exporter": "python",
   "pygments_lexer": "ipython3",
   "version": "3.12.3"
  }
 },
 "nbformat": 4,
 "nbformat_minor": 2
}
