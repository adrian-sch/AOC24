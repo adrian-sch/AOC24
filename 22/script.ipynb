{
 "cells": [
  {
   "cell_type": "code",
   "execution_count": null,
   "metadata": {},
   "outputs": [],
   "source": [
    "\n",
    "def mix(a, b):\n",
    "    return a ^ b\n",
    "\n",
    "def prune(num):\n",
    "    return num % 16777216\n",
    "\n",
    "def next(num):\n",
    "    num = prune(mix(num, num*64))\n",
    "    num = prune(mix(num, num//32))\n",
    "    num = prune(mix(num, num*2048))\n",
    "    return num\n",
    "\n",
    "nums = [[int(num)] for num in open('input.txt').read().splitlines()]\n",
    "\n",
    "for i in range(2000):\n",
    "    for list in nums:\n",
    "        list.append(next(list[-1]))\n",
    "\n",
    "\n",
    "ans = 0\n",
    "for list in nums:\n",
    "    print(f\"{list[0]}: {list[-1]}\")\n",
    "    ans += list[-1]\n",
    "\n",
    "ans"
   ]
  },
  {
   "cell_type": "code",
   "execution_count": null,
   "metadata": {},
   "outputs": [],
   "source": [
    "for list in nums:\n",
    "    for i in range(len(list)):\n",
    "        list[i] = list[i] % 10\n",
    "\n",
    "nums"
   ]
  },
  {
   "cell_type": "code",
   "execution_count": null,
   "metadata": {},
   "outputs": [],
   "source": [
    "diffs = []\n",
    "for list in nums:\n",
    "    d = []\n",
    "    for i in range(len(list)-1):\n",
    "        d.append(list[i+1] - list[i])\n",
    "    diffs.append(d)\n",
    "\n",
    "diffs\n"
   ]
  },
  {
   "cell_type": "code",
   "execution_count": null,
   "metadata": {},
   "outputs": [],
   "source": [
    "\n",
    "sequences = {}\n",
    "for idx, list in enumerate(diffs):\n",
    "    seen = set()\n",
    "    for i in range(len(list)-4):\n",
    "        sublist = list[i:i+4]\n",
    "        if tuple(sublist) not in seen:\n",
    "            sequences[tuple(sublist)] = sequences.get(tuple(sublist), 0) + nums[idx][i+4]\n",
    "            # print(f\"{sublist} : {nums[idx][i+4]}\")\n",
    "            seen.add(tuple(sublist))\n",
    "\n",
    "\n",
    "print(max(sequences, key=sequences.get))\n",
    "max(sequences.values())"
   ]
  }
 ],
 "metadata": {
  "kernelspec": {
   "display_name": "Python 3",
   "language": "python",
   "name": "python3"
  },
  "language_info": {
   "codemirror_mode": {
    "name": "ipython",
    "version": 3
   },
   "file_extension": ".py",
   "mimetype": "text/x-python",
   "name": "python",
   "nbconvert_exporter": "python",
   "pygments_lexer": "ipython3",
   "version": "3.12.3"
  }
 },
 "nbformat": 4,
 "nbformat_minor": 2
}
